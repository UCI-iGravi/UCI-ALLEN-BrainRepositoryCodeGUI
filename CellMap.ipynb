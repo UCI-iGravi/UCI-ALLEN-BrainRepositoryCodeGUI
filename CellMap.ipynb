{
 "cells": [
  {
   "cell_type": "code",
   "execution_count": 1,
   "id": "77552dc2",
   "metadata": {},
   "outputs": [],
   "source": [
    "%load_ext autoreload\n",
    "%autoreload 2"
   ]
  },
  {
   "cell_type": "code",
   "execution_count": 2,
   "id": "3df432fc",
   "metadata": {},
   "outputs": [
    {
     "name": "stdout",
     "output_type": "stream",
     "text": [
      "Jupyter environment detected. Enabling Open3D WebVisualizer.\n",
      "[Open3D INFO] WebRTC GUI backend enabled.\n",
      "[Open3D INFO] WebRTCWindowSystem: HTTP handshake server disabled.\n"
     ]
    }
   ],
   "source": [
    "import os\n",
    "import time\n",
    "import numpy as np\n",
    "import matplotlib.pyplot as plt\n",
    "from scipy.ndimage import affine_transform, geometric_transform\n",
    "\n",
    "from reconstruction import create_nifti_image\n",
    "from registration.reg_utils import loadNiiImages\n",
    "import registration as rg\n"
   ]
  },
  {
   "cell_type": "code",
   "execution_count": 3,
   "id": "ab4a3a47",
   "metadata": {},
   "outputs": [],
   "source": [
    "from scipy import stats"
   ]
  },
  {
   "cell_type": "code",
   "execution_count": 3,
   "id": "b7f94279",
   "metadata": {},
   "outputs": [],
   "source": [
    "templateImagePath = \"CCF_DATA/average_template_25.nii.gz\"\n",
    "dataImagePath = \"../registration/B39/brain_25.nii.gz\"\n",
    "annotationImagePath = \"CCF_DATA/annotation_25.nii.gz\""
   ]
  },
  {
   "cell_type": "code",
   "execution_count": 4,
   "id": "33b74ff2",
   "metadata": {},
   "outputs": [],
   "source": [
    "fixedImagePath = templateImagePath\n",
    "movingImagePath = dataImagePath"
   ]
  },
  {
   "cell_type": "code",
   "execution_count": 5,
   "id": "e1dba42f",
   "metadata": {},
   "outputs": [
    {
     "name": "stderr",
     "output_type": "stream",
     "text": [
      "100%|███████████████████████████████████████████████████████████████████████████████| 161/161 [00:01<00:00, 113.22it/s]\n",
      "100%|███████████████████████████████████████████████████████████████████████████████| 528/528 [00:02<00:00, 242.54it/s]\n"
     ]
    }
   ],
   "source": [
    "A, _ = rg.axisAlignData(fixedImagePath, movingImagePath)"
   ]
  },
  {
   "cell_type": "code",
   "execution_count": 6,
   "id": "440ac7d5",
   "metadata": {},
   "outputs": [],
   "source": [
    "fdata , mdata = loadNiiImages([fixedImagePath,movingImagePath ])"
   ]
  },
  {
   "cell_type": "code",
   "execution_count": 4,
   "id": "feac3793",
   "metadata": {},
   "outputs": [
    {
     "ename": "KeyboardInterrupt",
     "evalue": "",
     "output_type": "error",
     "traceback": [
      "\u001b[1;31m---------------------------------------------------------------------------\u001b[0m",
      "\u001b[1;31mKeyboardInterrupt\u001b[0m                         Traceback (most recent call last)",
      "Cell \u001b[1;32mIn[4], line 11\u001b[0m\n\u001b[0;32m      9\u001b[0m finalX   \u001b[38;5;241m=\u001b[39m rg\u001b[38;5;241m.\u001b[39mapplyDeformationField(elastixX , deformationField)\n\u001b[0;32m     10\u001b[0m finalY   \u001b[38;5;241m=\u001b[39m rg\u001b[38;5;241m.\u001b[39mapplyDeformationField(elastixY , deformationField)\n\u001b[1;32m---> 11\u001b[0m finalZ   \u001b[38;5;241m=\u001b[39m \u001b[43mrg\u001b[49m\u001b[38;5;241;43m.\u001b[39;49m\u001b[43mapplyDeformationField\u001b[49m\u001b[43m(\u001b[49m\u001b[43melastixZ\u001b[49m\u001b[43m \u001b[49m\u001b[43m,\u001b[49m\u001b[43m \u001b[49m\u001b[43mdeformationField\u001b[49m\u001b[43m)\u001b[49m\n\u001b[0;32m     13\u001b[0m mapping \u001b[38;5;241m=\u001b[39m np\u001b[38;5;241m.\u001b[39mzeros((fx,fy,fz,\u001b[38;5;241m3\u001b[39m))\n\u001b[0;32m     14\u001b[0m mapping[:,:,:, \u001b[38;5;241m0\u001b[39m] \u001b[38;5;241m=\u001b[39m finalX\n",
      "File \u001b[1;32mG:\\Brain_Stitch\\UCI-ALLEN-BrainRepositoryCode\\registration\\reg_utils.py:487\u001b[0m, in \u001b[0;36mapplyDeformationField\u001b[1;34m(image, deformationField)\u001b[0m\n\u001b[0;32m    479\u001b[0m \u001b[38;5;250m\u001b[39m\u001b[38;5;124;03m\"\"\"\u001b[39;00m\n\u001b[0;32m    480\u001b[0m \u001b[38;5;124;03mMorphs the numpy iage data according to the deformation Field \u001b[39;00m\n\u001b[0;32m    481\u001b[0m \n\u001b[1;32m   (...)\u001b[0m\n\u001b[0;32m    484\u001b[0m \u001b[38;5;124;03mimage: Can be Numpy array or a path to nii Image\u001b[39;00m\n\u001b[0;32m    485\u001b[0m \u001b[38;5;124;03m\"\"\"\u001b[39;00m\n\u001b[0;32m    486\u001b[0m data \u001b[38;5;241m=\u001b[39m loadNiiImages([image])\n\u001b[1;32m--> 487\u001b[0m transformedData \u001b[38;5;241m=\u001b[39m \u001b[43mgeometric_transform\u001b[49m\u001b[43m(\u001b[49m\u001b[43mdata\u001b[49m\u001b[43m,\u001b[49m\u001b[43m \u001b[49m\u001b[43mpartial\u001b[49m\u001b[43m(\u001b[49m\u001b[43mshift3Dfunc\u001b[49m\u001b[43m,\u001b[49m\u001b[43m \u001b[49m\u001b[43mdx\u001b[49m\u001b[38;5;241;43m=\u001b[39;49m\u001b[43mdeformationField\u001b[49m\u001b[43m[\u001b[49m\u001b[38;5;241;43m0\u001b[39;49m\u001b[43m]\u001b[49m\u001b[43m,\u001b[49m\u001b[43m \u001b[49m\u001b[43mdy\u001b[49m\u001b[38;5;241;43m=\u001b[39;49m\u001b[43mdeformationField\u001b[49m\u001b[43m[\u001b[49m\u001b[38;5;241;43m1\u001b[39;49m\u001b[43m]\u001b[49m\u001b[43m,\u001b[49m\u001b[43m \u001b[49m\u001b[43mdz\u001b[49m\u001b[43m \u001b[49m\u001b[38;5;241;43m=\u001b[39;49m\u001b[43m \u001b[49m\u001b[43mdeformationField\u001b[49m\u001b[43m[\u001b[49m\u001b[38;5;241;43m2\u001b[39;49m\u001b[43m]\u001b[49m\u001b[43m)\u001b[49m\u001b[43m)\u001b[49m\n\u001b[0;32m    488\u001b[0m \u001b[38;5;28;01mreturn\u001b[39;00m transformedData\n",
      "File \u001b[1;32m~\\anaconda3\\envs\\tissuecyte\\lib\\site-packages\\scipy\\ndimage\\_interpolation.py:352\u001b[0m, in \u001b[0;36mgeometric_transform\u001b[1;34m(input, mapping, output_shape, output, order, mode, cval, prefilter, extra_arguments, extra_keywords)\u001b[0m\n\u001b[0;32m    350\u001b[0m     filtered \u001b[38;5;241m=\u001b[39m \u001b[38;5;28minput\u001b[39m\n\u001b[0;32m    351\u001b[0m mode \u001b[38;5;241m=\u001b[39m _ni_support\u001b[38;5;241m.\u001b[39m_extend_mode_to_code(mode)\n\u001b[1;32m--> 352\u001b[0m \u001b[43m_nd_image\u001b[49m\u001b[38;5;241;43m.\u001b[39;49m\u001b[43mgeometric_transform\u001b[49m\u001b[43m(\u001b[49m\u001b[43mfiltered\u001b[49m\u001b[43m,\u001b[49m\u001b[43m \u001b[49m\u001b[43mmapping\u001b[49m\u001b[43m,\u001b[49m\u001b[43m \u001b[49m\u001b[38;5;28;43;01mNone\u001b[39;49;00m\u001b[43m,\u001b[49m\u001b[43m \u001b[49m\u001b[38;5;28;43;01mNone\u001b[39;49;00m\u001b[43m,\u001b[49m\u001b[43m \u001b[49m\u001b[38;5;28;43;01mNone\u001b[39;49;00m\u001b[43m,\u001b[49m\u001b[43m \u001b[49m\u001b[43moutput\u001b[49m\u001b[43m,\u001b[49m\n\u001b[0;32m    353\u001b[0m \u001b[43m                              \u001b[49m\u001b[43morder\u001b[49m\u001b[43m,\u001b[49m\u001b[43m \u001b[49m\u001b[43mmode\u001b[49m\u001b[43m,\u001b[49m\u001b[43m \u001b[49m\u001b[43mcval\u001b[49m\u001b[43m,\u001b[49m\u001b[43m \u001b[49m\u001b[43mnpad\u001b[49m\u001b[43m,\u001b[49m\u001b[43m \u001b[49m\u001b[43mextra_arguments\u001b[49m\u001b[43m,\u001b[49m\n\u001b[0;32m    354\u001b[0m \u001b[43m                              \u001b[49m\u001b[43mextra_keywords\u001b[49m\u001b[43m)\u001b[49m\n\u001b[0;32m    355\u001b[0m \u001b[38;5;28;01mreturn\u001b[39;00m output\n",
      "File \u001b[1;32mG:\\Brain_Stitch\\UCI-ALLEN-BrainRepositoryCode\\registration\\reg_utils.py:452\u001b[0m, in \u001b[0;36mshift3Dfunc\u001b[1;34m(point, dx, dy, dz)\u001b[0m\n\u001b[0;32m    449\u001b[0m         \u001b[38;5;28;01mreturn\u001b[39;00m (point[\u001b[38;5;241m0\u001b[39m], point[\u001b[38;5;241m1\u001b[39m])\n\u001b[0;32m    450\u001b[0m     \u001b[38;5;28;01mreturn\u001b[39;00m (px, py)\n\u001b[1;32m--> 452\u001b[0m \u001b[38;5;28;01mdef\u001b[39;00m \u001b[38;5;21mshift3Dfunc\u001b[39m(point, dx, dy, dz):\n\u001b[0;32m    453\u001b[0m     px \u001b[38;5;241m=\u001b[39m point[\u001b[38;5;241m0\u001b[39m] \u001b[38;5;241m+\u001b[39m dx[point[\u001b[38;5;241m0\u001b[39m], point[\u001b[38;5;241m1\u001b[39m],  point[\u001b[38;5;241m2\u001b[39m]]\n\u001b[0;32m    454\u001b[0m     py \u001b[38;5;241m=\u001b[39m point[\u001b[38;5;241m1\u001b[39m] \u001b[38;5;241m+\u001b[39m dy[point[\u001b[38;5;241m0\u001b[39m], point[\u001b[38;5;241m1\u001b[39m],  point[\u001b[38;5;241m2\u001b[39m]]\n",
      "\u001b[1;31mKeyboardInterrupt\u001b[0m: "
     ]
    }
   ],
   "source": [
    "regDir =\"reg\"\n",
    "\n",
    "elastixX =  os.path.join(os.path.join(regDir, \"elastixX\"), \"result.nii\")\n",
    "elastixY =  os.path.join(os.path.join(regDir, \"elastixY\"), \"result.nii\")\n",
    "elastixZ =  os.path.join(os.path.join(regDir, \"elastixZ\"), \"result.nii\")\n",
    "\n",
    "\n",
    "deformationField = np.load(os.path.join(regDir,\"deformation3d.npy\"))\n",
    "finalX   = rg.applyDeformationField(elastixX , deformationField)\n",
    "finalY   = rg.applyDeformationField(elastixY , deformationField)\n",
    "finalZ   = rg.applyDeformationField(elastixZ , deformationField)\n",
    "\n",
    "mapping = np.zeros((fx,fy,fz,3))\n",
    "mapping[:,:,:, 0] = finalX\n",
    "\n",
    "mapping[:,:,:, 1] = finalY\n",
    "\n",
    "mapping[:,:,:, 2] = finalZ\n",
    "mapping[mapping<0] = 0"
   ]
  },
  {
   "cell_type": "code",
   "execution_count": 8,
   "id": "751c9861",
   "metadata": {},
   "outputs": [],
   "source": [
    "mapping  = np.random.rand(200,300,450,3)*100"
   ]
  },
  {
   "cell_type": "code",
   "execution_count": 9,
   "id": "cbdac18b",
   "metadata": {},
   "outputs": [
    {
     "data": {
      "text/plain": [
       "77518733"
      ]
     },
     "execution_count": 9,
     "metadata": {},
     "output_type": "execute_result"
    }
   ],
   "source": [
    "np.argmin(mapping - np.reshape(([25,35,67]), (1,1,1,3)))"
   ]
  },
  {
   "cell_type": "code",
   "execution_count": 11,
   "id": "ba5e5700",
   "metadata": {},
   "outputs": [],
   "source": []
  },
  {
   "cell_type": "code",
   "execution_count": 25,
   "id": "f22d46c4",
   "metadata": {},
   "outputs": [],
   "source": []
  },
  {
   "cell_type": "code",
   "execution_count": 27,
   "id": "31c39fe8",
   "metadata": {},
   "outputs": [
    {
     "data": {
      "text/plain": [
       "166"
      ]
     },
     "execution_count": 27,
     "metadata": {},
     "output_type": "execute_result"
    }
   ],
   "source": [
    "x"
   ]
  },
  {
   "cell_type": "code",
   "execution_count": 21,
   "id": "14bdf623",
   "metadata": {},
   "outputs": [
    {
     "data": {
      "text/plain": [
       "array([[120,  21, 271, ..., 321,  82, 165],\n",
       "       [274,  31,  93, ..., 218, 282, 185],\n",
       "       [192,   4, 371, ...,   1, 182, 358],\n",
       "       ...,\n",
       "       [ 66, 280,   8, ..., 384,  91,   6],\n",
       "       [220, 235, 233, ..., 166, 433, 246],\n",
       "       [128, 427, 423, ...,  59, 220, 303]], dtype=int64)"
      ]
     },
     "execution_count": 21,
     "metadata": {},
     "output_type": "execute_result"
    }
   ],
   "source": [
    "np.argmin(mnorm,axis=2)"
   ]
  },
  {
   "cell_type": "code",
   "execution_count": 14,
   "id": "c9ce18c2",
   "metadata": {},
   "outputs": [
    {
     "data": {
      "text/plain": [
       "0.24972070834454294"
      ]
     },
     "execution_count": 14,
     "metadata": {},
     "output_type": "execute_result"
    }
   ],
   "source": [
    "np.min(mnorm)"
   ]
  },
  {
   "cell_type": "code",
   "execution_count": 7,
   "id": "98c9225d",
   "metadata": {},
   "outputs": [],
   "source": [
    "outputDir = \"reg\"\n",
    "\n",
    "def loadTransformMapping(fshape, mshape,regDir):\n",
    "    \"\"\"\n",
    "    Returns the mapping of shape fshapex3. \n",
    "    For each voxel located at x,y,z in fdata, the 1x3 cell represents the x_,y_,z_ in mdata. \n",
    "    \"\"\"\n",
    "    \n",
    "    mx, my, mz = mshape\n",
    "    fx, fy, fz = fshape\n",
    "    \n",
    "    #Sample volumes that represent the coordinate of the voxel\n",
    "    X, Y,Z= np.meshgrid(range(mx), range(my), range(mz), indexing = 'ij')\n",
    "    X =X.astype(float)\n",
    "    Y =Y.astype(float)\n",
    "    Z= Z.astype(float)\n",
    "    \n",
    "    alignedX = affine_transform(X,np.linalg.inv(A), output_shape = X.shape, order =1)\n",
    "    alignedY = affine_transform(Y,np.linalg.inv(A), output_shape = Y.shape, order =1)\n",
    "    alignedZ = affine_transform(Z,np.linalg.inv(A), output_shape = Z.shape, order =1)\n",
    "    alignedXPath = os.path.join(regDir, \"alignX.nii.gz\")\n",
    "    alignedYPath = os.path.join(regDir, \"alignY.nii.gz\")\n",
    "    alignedZPath = os.path.join(regDir, \"alignZ.nii.gz\")\n",
    "    \n",
    "    create_nifti_image(alignedX, 2.5, alignedXPath, 1)\n",
    "    create_nifti_image(alignedY, 2.5, alignedYPath, 1)\n",
    "    create_nifti_image(alignedZ, 2.5, alignedZPath, 1)\n",
    "\n",
    "    elastixX =  rg.elastixTransformation(alignedXPath, regDir, os.path.join(regDir, \"elastixX\"))\n",
    "    elastixY =  rg.elastixTransformation(alignedYPath, regDir, os.path.join(regDir, \"elastixY\"))\n",
    "    elastixZ =  rg.elastixTransformation(alignedZPath, regDir, os.path.join(regDir, \"elastixZ\"))\n",
    "\n",
    "    deformationField = np.load(os.path.join(regDir,\"deformation3d.npy\"))\n",
    "    finalX   = rg.applyDeformationField(elastixX , deformationField)\n",
    "    finalY   = rg.applyDeformationField(elastixY , deformationField)\n",
    "    finalZ   = rg.applyDeformationField(elastixZ , deformationField)\n",
    "    \n",
    "    mapping = np.zeros((fx,fy,fz,3))\n",
    "    mapping[:,:,:, 0] = finalX\n",
    "\n",
    "    mapping[:,:,:, 1] = finalY\n",
    "\n",
    "    mapping[:,:,:, 2] = finalZ\n",
    "    mapping[mapping<0] = 0\n",
    "    \n",
    "    #Remove all junk files\n",
    "    os.remove(os.path.join(regDir, \"alignX.nii.gz\"))\n",
    "    os.remove(os.path.join(regDir, \"alignY.nii.gz\"))\n",
    "    os.remove(os.path.join(regDir, \"alignZ.nii.gz\"))\n",
    "    shutil.rmtree(os.path.join(regDir, \"elastixX\"))\n",
    "    shutil.rmtree(os.path.join(regDir, \"elastixY\"))\n",
    "    shutil.rmtree(os.path.join(regDir, \"elastixZ\"))\n",
    "    \n",
    "    return mapping"
   ]
  },
  {
   "cell_type": "code",
   "execution_count": 104,
   "id": "7eac4aa5",
   "metadata": {},
   "outputs": [],
   "source": [
    "anndata = loadNiiImages([annotationImagePath])"
   ]
  },
  {
   "cell_type": "code",
   "execution_count": 73,
   "id": "382c7543",
   "metadata": {},
   "outputs": [],
   "source": [
    "mx, my, mz = mdata.shape"
   ]
  },
  {
   "cell_type": "code",
   "execution_count": null,
   "id": "d5089860",
   "metadata": {},
   "outputs": [],
   "source": [
    "def getPointRegions(points, mapping):\n",
    "    mint = mapping.astype(int)\n",
    "    pointRegions =[]\n",
    "    for point in points:\n",
    "        x,y,z = point\n",
    "        indices = np.where(np.bitwise_and(np.bitwise_and(mint[:,:,:,0]==x, mint[:,:,:,1]==y), mint[:,:,:,2]==z))\n",
    "        if(len(indices[0]) ==0 ):\n",
    "            pointRegions.append(0)\n",
    "        else:\n",
    "            pointRegions.append(stats.mode(anndata[indices[0], indices[1], indices[2]], keepdims=False).mode)\n",
    "    return pointRegions"
   ]
  },
  {
   "cell_type": "code",
   "execution_count": 135,
   "id": "7e2c0711",
   "metadata": {},
   "outputs": [
    {
     "name": "stderr",
     "output_type": "stream",
     "text": [
      "100%|████████████████████████████████████████████████████████████████████████████████| 528/528 [04:25<00:00,  1.99it/s]\n"
     ]
    }
   ],
   "source": [
    "mint = mapping.astype(int)\n",
    "fx, fy, fz  = fdata.shape\n",
    "mapRev = np.zeros((mx,my, mz,3))\n",
    "for x in tqdm(range(fx)):\n",
    "    for y in range(fy):\n",
    "        for z in range(fz):\n",
    "            x_,y_, z_ = mint[x,y,z]\n",
    "            mapRev[x_,y_,z_] = anndata[x,y,z]"
   ]
  },
  {
   "cell_type": "code",
   "execution_count": 136,
   "id": "434a20c1",
   "metadata": {},
   "outputs": [
    {
     "data": {
      "text/plain": [
       "<nibabel.nifti1.Nifti1Image at 0x1d77c373940>"
      ]
     },
     "execution_count": 136,
     "metadata": {},
     "output_type": "execute_result"
    }
   ],
   "source": [
    "create_nifti_image(mapRev, 2.5, \"map.nii.gz\", 1)"
   ]
  },
  {
   "cell_type": "code",
   "execution_count": 134,
   "id": "ad665f28",
   "metadata": {},
   "outputs": [
    {
     "name": "stderr",
     "output_type": "stream",
     "text": [
      "  0%|                                                                                          | 0/280 [00:00<?, ?it/s]\n",
      "  0%|                                                                                          | 0/436 [00:00<?, ?it/s]\u001b[A"
     ]
    },
    {
     "name": "stdout",
     "output_type": "stream",
     "text": [
      "hey (array([  0,   0,   0, ..., 527, 527, 527], dtype=int64), array([ 60,  60,  60, ..., 319, 319, 319], dtype=int64), array([132, 133, 134, ..., 257, 258, 259], dtype=int64))\n",
      "hey (array([ 0,  0,  0, ..., 30, 30, 30], dtype=int64), array([ 60,  60,  60, ..., 280, 280, 280], dtype=int64), array([111, 112, 113, ..., 264, 265, 266], dtype=int64))\n",
      "hey (array([ 0,  0,  0,  0,  0,  0,  0,  0,  0,  0,  0,  0,  0,  0,  0,  0,  0,\n",
      "        0,  0,  0,  0,  0,  0,  0,  0,  0,  0,  0,  0,  0,  0,  0,  0,  0,\n",
      "        0,  0,  0,  0,  0,  0,  0,  0,  0,  0,  0,  0,  0,  0,  0,  1,  1,\n",
      "        1,  1,  1,  1,  1,  1,  1,  1,  1,  1,  1,  1,  1,  1,  1,  1,  1,\n",
      "        1,  1,  1,  1,  1,  1,  1,  1,  1,  1,  1,  1,  1,  1,  1,  2,  2,\n",
      "        2,  2,  2,  2,  2,  2,  2,  2,  2,  2,  2,  2,  2,  2,  2,  2,  2,\n",
      "        2,  2,  2,  2,  2,  2,  2,  2,  2,  2,  2,  2,  2,  2,  2,  2,  2,\n",
      "        2,  2,  2,  3,  3,  3,  3,  3,  3,  3,  3,  3,  3,  3,  3,  3,  3,\n",
      "        3,  3,  3,  3,  3,  3,  3,  3,  3,  3,  3,  3,  3,  3,  3,  3,  3,\n",
      "        3,  3,  3,  3,  3,  3,  3,  3,  3,  3,  3,  3,  3,  3,  3,  3,  3,\n",
      "        3,  3,  3,  3,  3,  3,  3,  3,  3,  3,  3,  3,  3,  3,  3,  3,  3,\n",
      "        3,  3,  3,  3,  3,  3,  3,  3,  3,  3,  3,  3,  3,  3,  3,  3,  3,\n",
      "        3,  3,  3,  3,  3,  3,  3,  3,  3,  3,  3,  4,  4,  4,  4,  4,  4,\n",
      "        4,  4,  4,  4,  4,  4,  4,  4,  4,  4,  4,  4,  4,  4,  4,  4,  4,\n",
      "        4,  4,  4,  4,  4,  4,  4,  4,  4,  4,  4,  4,  4,  4,  4,  4,  4,\n",
      "        4,  4,  4,  4,  4,  4,  4,  4,  4,  4,  4,  4,  4,  4,  4,  4,  4,\n",
      "        4,  4,  4,  4,  4,  4,  4,  4,  4,  4,  4,  4,  4,  4,  4,  4,  4,\n",
      "        4,  4,  4,  4,  4,  4,  4,  4,  4,  4,  4,  4,  4,  4,  5,  5,  5,\n",
      "        5,  5,  5,  5,  5,  5,  5,  5,  5,  5,  5,  5,  5,  5,  5,  5,  5,\n",
      "        5,  5,  5,  5,  5,  5,  5,  5,  5,  5,  5,  5,  5,  5,  5,  5,  5,\n",
      "        5,  5,  5,  5,  5,  5,  5,  5,  5,  5,  5,  5,  5,  5,  5,  5,  5,\n",
      "        5,  5,  5,  5,  5,  5,  5,  5,  5,  5,  5,  5,  5,  5,  5,  5,  5,\n",
      "        5,  5,  5,  5,  5,  5,  5,  5,  5,  5,  5,  5,  5,  5,  5,  5,  5,\n",
      "        5,  5,  5,  6,  6,  6,  6,  6,  6,  6,  6,  6,  6,  6,  6,  6,  6,\n",
      "        6,  6,  6,  6,  6,  6,  6,  6,  6,  6,  6,  6,  6,  6,  6,  6,  6,\n",
      "        6,  6,  6,  6,  6,  6,  6,  6,  6,  6,  6,  6,  6,  6,  6,  6,  6,\n",
      "        6,  6,  6,  6,  6,  6,  6,  6,  6,  6,  6,  7,  7,  7,  7,  7,  7,\n",
      "        7,  7,  7,  7,  7,  7,  7,  7,  7,  7,  7,  7,  7,  7,  7,  7,  7,\n",
      "        7,  7,  7,  7,  7,  7,  7,  7,  7,  7,  7,  7,  7,  7,  7,  7,  7,\n",
      "        7,  7,  7,  7,  7,  7,  7,  7,  7,  7,  7,  7,  7,  7,  7,  7,  7,\n",
      "        7,  7,  8,  8,  8,  8,  8,  8,  8,  8,  8,  8,  8,  8,  8,  8,  8,\n",
      "        8,  8,  8,  8,  8,  8,  8,  8,  8,  8,  8,  8,  8,  8,  8,  8,  8,\n",
      "        8,  8,  8,  8,  8,  8,  8,  8,  9,  9,  9,  9,  9,  9,  9,  9,  9,\n",
      "        9,  9,  9,  9,  9,  9,  9,  9,  9, 10, 10, 10, 10, 10, 10, 10, 10,\n",
      "       10, 10, 10, 11, 11, 11, 11, 12, 12, 12, 13, 13, 13, 13, 13, 14, 14,\n",
      "       15, 15, 16, 18], dtype=int64), array([ 60,  60,  60,  60,  60,  60,  60,  60,  60,  60,  60,  60,  60,\n",
      "        60,  60,  60,  60,  60,  60,  61,  61,  61,  61,  61,  61,  61,\n",
      "        61,  62,  62,  62,  62,  62,  62,  62,  62,  62,  62,  62,  62,\n",
      "        62,  62,  62,  62,  62,  63,  63,  63,  63,  64,  67,  67,  67,\n",
      "        67,  67,  67,  67,  67,  67,  67,  67,  67,  67,  67,  67,  68,\n",
      "        68,  68,  68,  69,  69,  69,  69,  69,  69,  69,  69,  69,  69,\n",
      "        69,  69,  69,  70,  70,  74,  74,  74,  74,  74,  74,  74,  74,\n",
      "        74,  74,  75,  76,  76,  76,  76,  76,  76,  76,  76,  76,  82,\n",
      "        82,  83,  83,  83,  84,  84,  85,  85,  85,  85,  85,  85,  85,\n",
      "        86,  86,  86,  86,  86,  81,  81,  81,  81,  81,  81,  81,  81,\n",
      "        81,  81,  81,  82,  82,  82,  82,  82,  82,  82,  82,  82,  82,\n",
      "        82,  82,  82,  82,  82,  82,  82,  82,  82,  82,  82,  82,  82,\n",
      "        82,  82,  82,  82,  82,  82,  82,  82,  82,  82,  82,  83,  83,\n",
      "        83,  83,  83,  83,  83,  83,  88,  88,  90,  90,  90,  90,  90,\n",
      "        90,  90,  90,  90,  90,  90,  90,  91,  91,  91,  91,  91,  91,\n",
      "        91,  91,  91,  91,  91,  91,  91,  91,  91,  91,  92,  92,  92,\n",
      "        92,  92,  92,  94,  94, 172, 188,  87,  87,  87,  87,  87,  87,\n",
      "        87,  87,  87,  87,  87,  87,  87,  87,  87,  87,  87,  88,  88,\n",
      "        88,  88,  88,  88,  89,  89,  89,  89,  89,  89,  89,  89,  89,\n",
      "        89,  89,  89,  89,  89,  90,  90,  90,  90,  90,  90,  95,  96,\n",
      "        97,  97,  97,  97,  97,  97,  97,  97,  98,  98,  98,  98,  98,\n",
      "        98,  98,  98,  99,  99,  99,  99,  99,  99,  99,  99,  99, 100,\n",
      "       100, 100, 100, 100, 100, 100, 100, 101, 101, 102, 102, 139, 143,\n",
      "       143, 157, 175, 188,  94,  94,  94,  94,  94,  94,  94,  94,  94,\n",
      "        94,  94,  94,  94,  94,  94,  94,  94,  94,  94,  94,  94,  94,\n",
      "        94,  95,  95,  96,  96,  96,  96,  96,  96,  96,  96,  96,  96,\n",
      "        96,  96,  96,  96,  96,  96,  96,  97,  97,  97,  98,  98,  98,\n",
      "        98,  98,  98,  98, 103, 104, 104, 105, 105, 106, 106, 106, 107,\n",
      "       107, 107, 107, 107, 107, 107, 107, 108, 108, 108, 108, 108, 108,\n",
      "       108, 108, 108, 108, 108, 108, 109, 109, 109, 109, 109, 110, 110,\n",
      "       148, 150, 157, 159, 101, 101, 101, 102, 103, 103, 104, 104, 104,\n",
      "       104, 104, 104, 105, 105, 105, 105, 106, 106, 106, 106, 107, 107,\n",
      "       108, 108, 108, 108, 108, 108, 111, 113, 114, 114, 115, 115, 115,\n",
      "       116, 116, 116, 116, 116, 116, 116, 116, 117, 117, 117, 118, 118,\n",
      "       119, 120, 120, 121, 122, 124, 126, 153, 157, 173, 190, 108, 109,\n",
      "       112, 112, 113, 113, 114, 114, 115, 115, 115, 116, 116, 116, 117,\n",
      "       118, 119, 123, 123, 123, 124, 124, 124, 125, 125, 125, 125, 126,\n",
      "       126, 126, 127, 128, 128, 128, 129, 129, 129, 129, 130, 130, 131,\n",
      "       131, 131, 131, 132, 132, 133, 133, 133, 134, 134, 135, 135, 136,\n",
      "       136, 138, 144, 145, 160, 119, 121, 122, 122, 122, 122, 122, 122,\n",
      "       123, 123, 124, 125, 126, 126, 126, 126, 127, 127, 127, 128, 128,\n",
      "       129, 129, 129, 129, 130, 130, 130, 135, 136, 140, 141, 141, 142,\n",
      "       142, 147, 148, 161, 163, 182, 133, 136, 136, 137, 137, 137, 137,\n",
      "       140, 141, 144, 146, 146, 146, 149, 151, 152, 173, 181, 142, 142,\n",
      "       143, 144, 144, 147, 148, 152, 158, 183, 201, 149, 151, 151, 196,\n",
      "       157, 158, 160, 162, 163, 163, 163, 164, 170, 172, 178, 179, 186,\n",
      "       201], dtype=int64), array([101, 102, 103, 104, 105, 106, 107, 108, 109, 110, 193, 194, 195,\n",
      "       196, 197, 198, 199, 200, 201,  69,  70,  71, 233, 234, 235, 236,\n",
      "       237, 106, 107, 108, 109, 110, 111, 112, 113, 114, 207, 208, 209,\n",
      "       210, 211, 212, 213, 214,  74,  75,  76, 240,  51,  96,  97,  98,\n",
      "        99, 100, 101, 201, 202, 203, 204, 205, 206, 207, 208, 209,  65,\n",
      "       238, 239, 240,  99, 100, 101, 102, 103, 214, 215, 216, 217, 218,\n",
      "       219, 220, 221,  69,  70,  92,  93,  94, 208, 209, 210, 211, 212,\n",
      "       213, 214, 238,  94,  95, 221, 222, 223, 224, 225, 226, 240, 179,\n",
      "       220, 231, 232, 233, 198, 199, 242, 243, 244, 245, 246, 247, 285,\n",
      "       269, 270, 271, 272, 273,  88, 209, 210, 211, 212, 213, 214, 215,\n",
      "       216, 217, 218, 141, 142, 143, 144, 145, 146, 147, 148, 149, 150,\n",
      "       151, 152, 153, 154, 155, 156, 157, 158, 159, 160, 161, 162, 163,\n",
      "       164, 165, 166, 167, 168, 169, 170, 171, 172, 173, 174, 224, 225,\n",
      "       226, 227, 228, 229, 230, 239, 164, 165, 176, 177, 178, 179, 180,\n",
      "       181, 182, 183, 184, 185, 186, 187, 209, 210, 211, 212, 213, 214,\n",
      "       218, 219, 220, 221, 222, 223, 224, 225, 226, 227, 234, 235, 236,\n",
      "       237, 238, 302, 294, 295, 231, 232, 144, 145, 146, 147, 148, 149,\n",
      "       150, 151, 152, 153, 154, 155, 156, 157, 158, 159, 160, 189, 190,\n",
      "       191, 192, 193, 194, 129, 130, 131, 132, 133, 134, 135, 136, 163,\n",
      "       164, 165, 166, 167, 168, 189, 190, 191, 192, 193, 194, 152, 175,\n",
      "       163, 164, 165, 166, 167, 168, 169, 195, 177, 178, 179, 180, 181,\n",
      "       182, 205, 235, 194, 212, 213, 214, 219, 220, 221, 241, 242, 205,\n",
      "       206, 207, 247, 248, 249, 283, 313, 281, 305, 306, 307, 232, 230,\n",
      "       232, 230, 230, 231, 133, 134, 135, 136, 137, 138, 139, 140, 141,\n",
      "       142, 143, 144, 145, 146, 147, 148, 149, 150, 151, 152, 153, 154,\n",
      "       155, 175, 176, 122, 123, 158, 159, 160, 189, 190, 191, 211, 212,\n",
      "       213, 214, 215, 216, 217, 218, 234, 174, 175, 236, 187, 188, 212,\n",
      "       213, 214, 215, 216, 163, 154, 158, 165, 168, 173, 176, 237, 180,\n",
      "       181, 183, 220, 221, 226, 227, 228, 187, 188, 189, 190, 191, 192,\n",
      "       193, 212, 216, 217, 239, 283, 206, 210, 296, 314, 315, 203, 204,\n",
      "       229, 229, 230, 231, 127, 147, 148, 165, 152, 174, 165, 182, 219,\n",
      "       220, 221, 222, 173, 190, 207, 208, 180, 221, 222, 223, 187, 210,\n",
      "       196, 197, 198, 199, 200, 201, 151, 163, 303, 326, 182, 231, 234,\n",
      "       221, 227, 249, 274, 295, 303, 319, 320, 218, 219, 249, 185, 189,\n",
      "       197, 200, 210, 210, 206, 201, 202, 228, 229, 230, 233, 142, 157,\n",
      "       164, 175, 179, 217, 183, 211, 208, 218, 219, 181, 194, 212, 185,\n",
      "       191, 206, 235, 323, 324, 171, 208, 290, 172, 231, 244, 289, 229,\n",
      "       231, 266, 229, 184, 186, 222, 186, 199, 220, 226, 194, 202, 205,\n",
      "       218, 221, 225, 205, 224, 208, 216, 219, 214, 220, 213, 226, 211,\n",
      "       231, 205, 225, 225, 229, 166, 172, 168, 220, 221, 222, 223, 224,\n",
      "       177, 197, 173, 189, 178, 186, 189, 215, 183, 185, 213, 194, 217,\n",
      "       209, 214, 311, 333, 303, 325, 326, 246, 250, 203, 199, 206, 171,\n",
      "       210, 221, 221, 228, 228, 229, 169, 206, 335, 204, 205, 210, 327,\n",
      "       217, 219, 222, 190, 205, 208, 228, 217, 225, 227, 228, 188, 196,\n",
      "       336, 263, 327, 218, 248, 198, 216, 226, 236, 336, 325, 326, 237,\n",
      "       285, 321, 216, 292, 333, 334, 335, 318, 339, 327, 345, 336, 341,\n",
      "       346], dtype=int64))\n"
     ]
    },
    {
     "name": "stdout",
     "output_type": "stream",
     "text": [
      "hey (array([0, 0, 0, 0, 0, 0, 0, 0, 0, 0, 0, 0, 0, 0, 0, 0, 0, 0, 0, 1, 1, 1,\n",
      "       1, 1, 1, 1, 1, 1, 1, 1, 1, 2, 2, 2, 2, 2, 2, 2, 2, 2, 2, 2, 2, 2,\n",
      "       2, 2, 2, 2, 2, 2, 2, 2, 2, 2, 2, 2, 2, 2, 3, 3, 3, 3, 3, 3, 3, 3,\n",
      "       3, 3, 3, 3, 3, 5, 5, 5, 7], dtype=int64), array([ 60,  60,  60,  60,  60,  60,  60,  61,  61,  61,  61,  62,  62,\n",
      "        62,  62,  62,  62,  62,  62,  67,  67,  67,  67,  67,  67,  69,\n",
      "        69,  69,  69,  69,  70,  74,  74,  74,  74,  76,  76,  76,  76,\n",
      "        82,  83,  85,  85,  85,  85,  85,  85,  85,  85,  85,  85,  85,\n",
      "        85,  86,  86,  86,  86,  86,  81,  81,  81,  83,  83,  83,  91,\n",
      "        91,  91,  92,  94,  94, 174, 107, 109, 109, 122], dtype=int64), array([202, 203, 204, 205, 206, 207, 208, 238, 239, 240, 241, 199, 200,\n",
      "       201, 202, 203, 204, 205, 206, 210, 211, 212, 213, 214, 242, 209,\n",
      "       210, 211, 212, 213, 239, 215, 216, 217, 218, 217, 218, 219, 220,\n",
      "       219, 234, 248, 249, 250, 251, 252, 253, 254, 255, 256, 257, 258,\n",
      "       284, 264, 265, 266, 267, 268, 219, 220, 221, 221, 222, 223, 215,\n",
      "       216, 217, 301, 292, 293, 231, 320, 282, 313, 330], dtype=int64))\n",
      "hey (array([0, 0, 0], dtype=int64), array([60, 61, 63], dtype=int64), array([209, 242, 238], dtype=int64))\n"
     ]
    },
    {
     "name": "stderr",
     "output_type": "stream",
     "text": [
      "  0%|                                                                                          | 0/436 [00:06<?, ?it/s]\n",
      "  0%|                                                                                          | 0/280 [00:06<?, ?it/s]\n"
     ]
    },
    {
     "ename": "KeyboardInterrupt",
     "evalue": "",
     "output_type": "error",
     "traceback": [
      "\u001b[1;31m---------------------------------------------------------------------------\u001b[0m",
      "\u001b[1;31mKeyboardInterrupt\u001b[0m                         Traceback (most recent call last)",
      "Cell \u001b[1;32mIn[134], line 6\u001b[0m\n\u001b[0;32m      4\u001b[0m \u001b[38;5;28;01mfor\u001b[39;00m y \u001b[38;5;129;01min\u001b[39;00m tqdm(\u001b[38;5;28mrange\u001b[39m(my)):\n\u001b[0;32m      5\u001b[0m     \u001b[38;5;28;01mfor\u001b[39;00m z \u001b[38;5;129;01min\u001b[39;00m \u001b[38;5;28mrange\u001b[39m(mz):\n\u001b[1;32m----> 6\u001b[0m         indices \u001b[38;5;241m=\u001b[39m \u001b[43mnp\u001b[49m\u001b[38;5;241;43m.\u001b[39;49m\u001b[43mwhere\u001b[49m\u001b[43m(\u001b[49m\u001b[43mnp\u001b[49m\u001b[38;5;241;43m.\u001b[39;49m\u001b[43mbitwise_and\u001b[49m\u001b[43m(\u001b[49m\u001b[43mnp\u001b[49m\u001b[38;5;241;43m.\u001b[39;49m\u001b[43mbitwise_and\u001b[49m\u001b[43m(\u001b[49m\u001b[43mmint\u001b[49m\u001b[43m[\u001b[49m\u001b[43m:\u001b[49m\u001b[43m,\u001b[49m\u001b[43m:\u001b[49m\u001b[43m,\u001b[49m\u001b[43m:\u001b[49m\u001b[43m,\u001b[49m\u001b[38;5;241;43m0\u001b[39;49m\u001b[43m]\u001b[49m\u001b[38;5;241;43m==\u001b[39;49m\u001b[43mx\u001b[49m\u001b[43m,\u001b[49m\u001b[43m \u001b[49m\u001b[43mmint\u001b[49m\u001b[43m[\u001b[49m\u001b[43m:\u001b[49m\u001b[43m,\u001b[49m\u001b[43m:\u001b[49m\u001b[43m,\u001b[49m\u001b[43m:\u001b[49m\u001b[43m,\u001b[49m\u001b[38;5;241;43m1\u001b[39;49m\u001b[43m]\u001b[49m\u001b[38;5;241;43m==\u001b[39;49m\u001b[43my\u001b[49m\u001b[43m)\u001b[49m\u001b[43m,\u001b[49m\u001b[43m \u001b[49m\u001b[43mmint\u001b[49m\u001b[43m[\u001b[49m\u001b[43m:\u001b[49m\u001b[43m,\u001b[49m\u001b[43m:\u001b[49m\u001b[43m,\u001b[49m\u001b[43m:\u001b[49m\u001b[43m,\u001b[49m\u001b[38;5;241;43m2\u001b[39;49m\u001b[43m]\u001b[49m\u001b[38;5;241;43m==\u001b[39;49m\u001b[43mz\u001b[49m\u001b[43m)\u001b[49m\u001b[43m)\u001b[49m\n\u001b[0;32m      7\u001b[0m         \u001b[38;5;28;01mif\u001b[39;00m(\u001b[38;5;28mlen\u001b[39m(indices[\u001b[38;5;241m0\u001b[39m]) \u001b[38;5;241m==\u001b[39m\u001b[38;5;241m0\u001b[39m):\n\u001b[0;32m      8\u001b[0m             \u001b[38;5;28;01mcontinue\u001b[39;00m\n",
      "File \u001b[1;32m<__array_function__ internals>:200\u001b[0m, in \u001b[0;36mwhere\u001b[1;34m(*args, **kwargs)\u001b[0m\n",
      "\u001b[1;31mKeyboardInterrupt\u001b[0m: "
     ]
    }
   ],
   "source": [
    "for x in tqdm(range(mx)):\n",
    "    for y in tqdm(range(my)):\n",
    "        for z in range(mz):\n",
    "            indices = np.where(np.bitwise_and(np.bitwise_and(mint[:,:,:,0]==x, mint[:,:,:,1]==y), mint[:,:,:,2]==z))\n",
    "            if(len(indices[0]) ==0):\n",
    "                continue\n",
    "            print(\"hey\" , indices)\n",
    "            mapRev[x,y,z] = stats.mode(anndata[indices[0], indices[1], indices[2]], keepdims=False).mode"
   ]
  },
  {
   "cell_type": "code",
   "execution_count": 120,
   "id": "8b81f32a",
   "metadata": {},
   "outputs": [],
   "source": [
    "indices = np.where(np.bitwise_and(np.bitwise_and(mint[:,:,:,0]==145, mint[:,:,:,1]==267), mint[:,:,:,2]==289))"
   ]
  },
  {
   "cell_type": "code",
   "execution_count": 122,
   "id": "97f931ad",
   "metadata": {},
   "outputs": [
    {
     "data": {
      "text/plain": [
       "(528, 320, 456, 3)"
      ]
     },
     "execution_count": 122,
     "metadata": {},
     "output_type": "execute_result"
    }
   ],
   "source": [
    "mint.shape"
   ]
  },
  {
   "cell_type": "code",
   "execution_count": 121,
   "id": "374b130c",
   "metadata": {},
   "outputs": [
    {
     "data": {
      "text/plain": [
       "(array([303, 304], dtype=int64),\n",
       " array([236, 236], dtype=int64),\n",
       " array([221, 221], dtype=int64))"
      ]
     },
     "execution_count": 121,
     "metadata": {},
     "output_type": "execute_result"
    }
   ],
   "source": [
    "indices"
   ]
  },
  {
   "cell_type": "code",
   "execution_count": 106,
   "id": "e2eeafc3",
   "metadata": {},
   "outputs": [
    {
     "data": {
      "text/plain": [
       "(array([288, 288, 289], dtype=int64),\n",
       " array([191, 192, 192], dtype=int64),\n",
       " array([184, 184, 184], dtype=int64))"
      ]
     },
     "execution_count": 106,
     "metadata": {},
     "output_type": "execute_result"
    }
   ],
   "source": [
    "indices[0]"
   ]
  },
  {
   "cell_type": "code",
   "execution_count": 124,
   "id": "371db3cf",
   "metadata": {},
   "outputs": [
    {
     "data": {
      "text/plain": [
       "515.0"
      ]
     },
     "execution_count": 124,
     "metadata": {},
     "output_type": "execute_result"
    }
   ],
   "source": [
    "stats.mode(anndata[indices[0], indices[1], indices[2]], keepdims = False).mode"
   ]
  },
  {
   "cell_type": "code",
   "execution_count": 119,
   "id": "ceb85c87",
   "metadata": {},
   "outputs": [
    {
     "data": {
      "text/plain": [
       "array([0., 0., 0., ..., 0., 0., 0.])"
      ]
     },
     "execution_count": 119,
     "metadata": {},
     "output_type": "execute_result"
    }
   ],
   "source": [
    "anndata[indices[0], indices[1], indices[2]]"
   ]
  },
  {
   "cell_type": "code",
   "execution_count": 110,
   "id": "6df8856b",
   "metadata": {},
   "outputs": [
    {
     "data": {
      "text/plain": [
       "715.0"
      ]
     },
     "execution_count": 110,
     "metadata": {},
     "output_type": "execute_result"
    }
   ],
   "source": [
    "anndata[288,191,184]"
   ]
  },
  {
   "cell_type": "code",
   "execution_count": 113,
   "id": "9335cee9",
   "metadata": {},
   "outputs": [],
   "source": [
    "import SimpleITK as sitk"
   ]
  },
  {
   "cell_type": "code",
   "execution_count": 114,
   "id": "61e93e79",
   "metadata": {},
   "outputs": [],
   "source": [
    "annotationImage  = sitk.ReadImage(annotationImagePath)"
   ]
  },
  {
   "cell_type": "code",
   "execution_count": null,
   "id": "3488f32c",
   "metadata": {},
   "outputs": [],
   "source": [
    "annotationImage.GetPixel()"
   ]
  },
  {
   "cell_type": "code",
   "execution_count": 111,
   "id": "471b14da",
   "metadata": {},
   "outputs": [
    {
     "data": {
      "text/plain": [
       "240"
      ]
     },
     "execution_count": 111,
     "metadata": {},
     "output_type": "execute_result"
    }
   ],
   "source": [
    "528-288"
   ]
  },
  {
   "cell_type": "code",
   "execution_count": 80,
   "id": "d6718d54",
   "metadata": {},
   "outputs": [],
   "source": [
    "m = mapping - np.array([5,6,7])"
   ]
  },
  {
   "cell_type": "code",
   "execution_count": 88,
   "id": "de144d9b",
   "metadata": {},
   "outputs": [],
   "source": []
  },
  {
   "cell_type": "code",
   "execution_count": 99,
   "id": "0bae3516",
   "metadata": {},
   "outputs": [
    {
     "data": {
      "text/plain": [
       "(array([ 0,  0,  0, ..., 37, 37, 37], dtype=int64),\n",
       " array([ 59,  59,  59, ..., 319, 319, 319], dtype=int64),\n",
       " array([112, 113, 114, ..., 168, 169, 170], dtype=int64))"
      ]
     },
     "execution_count": 99,
     "metadata": {},
     "output_type": "execute_result"
    }
   ],
   "source": [
    "np.where(mint[:,:,:,2]==7)"
   ]
  },
  {
   "cell_type": "code",
   "execution_count": 95,
   "id": "1dce3f81",
   "metadata": {},
   "outputs": [
    {
     "data": {
      "text/plain": [
       "0"
      ]
     },
     "execution_count": 95,
     "metadata": {},
     "output_type": "execute_result"
    }
   ],
   "source": [
    "np.min(abs(mint[:,:,:,0]- 5))"
   ]
  },
  {
   "cell_type": "code",
   "execution_count": 100,
   "id": "888f0524",
   "metadata": {},
   "outputs": [
    {
     "data": {
      "text/plain": [
       "(280, 436, 562)"
      ]
     },
     "execution_count": 100,
     "metadata": {},
     "output_type": "execute_result"
    }
   ],
   "source": [
    "mdata.shape"
   ]
  },
  {
   "cell_type": "code",
   "execution_count": 102,
   "id": "f1dce70b",
   "metadata": {},
   "outputs": [],
   "source": [
    "indices = np.where(np.bitwise_and(np.bitwise_and(mint[:,:,:,0]==140, mint[:,:,:,1]==225), mint[:,:,:,2]==256))"
   ]
  },
  {
   "cell_type": "code",
   "execution_count": 103,
   "id": "a422e3ef",
   "metadata": {},
   "outputs": [
    {
     "data": {
      "text/plain": [
       "3"
      ]
     },
     "execution_count": 103,
     "metadata": {},
     "output_type": "execute_result"
    }
   ],
   "source": []
  },
  {
   "cell_type": "code",
   "execution_count": 85,
   "id": "c4060613",
   "metadata": {},
   "outputs": [
    {
     "data": {
      "text/plain": [
       "(array([], dtype=int64), array([], dtype=int64), array([], dtype=int64))"
      ]
     },
     "execution_count": 85,
     "metadata": {},
     "output_type": "execute_result"
    }
   ],
   "source": [
    "np.where((abs(m[:,:,:,0])<0.5) &  (abs(m[:,:,:,1])<0.5) & (abs(m[:,:,:,2])<0.5))"
   ]
  },
  {
   "cell_type": "code",
   "execution_count": null,
   "id": "e695ad42",
   "metadata": {},
   "outputs": [],
   "source": [
    "for x in range(mx):\n",
    "    for y in range(my):\n",
    "        for z in range(mz):\n",
    "            abs(mapping[:,:,:])"
   ]
  },
  {
   "cell_type": "code",
   "execution_count": 65,
   "id": "0034ded0",
   "metadata": {},
   "outputs": [
    {
     "data": {
      "text/plain": [
       "array([ 16.31915092,  54.55852127, 138.71694946])"
      ]
     },
     "execution_count": 65,
     "metadata": {},
     "output_type": "execute_result"
    }
   ],
   "source": [
    "mapping[30, 45, 53]"
   ]
  },
  {
   "cell_type": "code",
   "execution_count": null,
   "id": "14711b10",
   "metadata": {},
   "outputs": [],
   "source": []
  },
  {
   "cell_type": "code",
   "execution_count": 8,
   "id": "a4ec2be6",
   "metadata": {},
   "outputs": [
    {
     "name": "stdout",
     "output_type": "stream",
     "text": [
      "CPU times: total: 30.2 s\n",
      "Wall time: 30.2 s\n"
     ]
    }
   ],
   "source": [
    "%%time\n",
    "alignedX = affine_transform(X,np.linalg.inv(A), output_shape = X.shape, order =1)\n",
    "alignedY = affine_transform(Y,np.linalg.inv(A), output_shape = Y.shape, order =1)\n",
    "alignedZ = affine_transform(Z,np.linalg.inv(A), output_shape = Z.shape, order =1)"
   ]
  },
  {
   "cell_type": "code",
   "execution_count": 50,
   "id": "0c8e86ca",
   "metadata": {},
   "outputs": [
    {
     "name": "stdout",
     "output_type": "stream",
     "text": [
      "CPU times: total: 1min 25s\n",
      "Wall time: 1min 25s\n"
     ]
    },
    {
     "data": {
      "text/plain": [
       "<nibabel.nifti1.Nifti1Image at 0x1d779f33460>"
      ]
     },
     "execution_count": 50,
     "metadata": {},
     "output_type": "execute_result"
    }
   ],
   "source": [
    "%%time\n",
    "outputDir = \"reg\"\n",
    "alignedXPath = os.path.join(outputDir, \"alignX.nii.gz\")\n",
    "alignedYPath = os.path.join(outputDir, \"alignY.nii.gz\")\n",
    "alignedZPath = os.path.join(outputDir, \"alignZ.nii.gz\")\n",
    "create_nifti_image(alignedX, 2.5, alignedXPath, 1)\n",
    "create_nifti_image(alignedY, 2.5, alignedYPath, 1)\n",
    "create_nifti_image(alignedZ, 2.5, alignedZPath, 1)"
   ]
  },
  {
   "cell_type": "code",
   "execution_count": 51,
   "id": "6ed5b9b8",
   "metadata": {},
   "outputs": [
    {
     "name": "stdout",
     "output_type": "stream",
     "text": [
      "CPU times: total: 0 ns\n",
      "Wall time: 1min 25s\n"
     ]
    }
   ],
   "source": [
    "%%time\n",
    "\n"
   ]
  },
  {
   "cell_type": "code",
   "execution_count": 56,
   "id": "4c308267",
   "metadata": {},
   "outputs": [
    {
     "name": "stdout",
     "output_type": "stream",
     "text": [
      "326.20450258255005\n",
      "650.7775268554688\n",
      "CPU times: total: 16min 16s\n",
      "Wall time: 16min 17s\n"
     ]
    }
   ],
   "source": [
    "%%time\n",
    "deformationField = np.load(os.path.join(outputDir,\"deformation3d.npy\"))\n",
    "start = time.time()\n",
    "\n",
    "finalX   = rg.applyDeformationField(elastixX , deformationField)\n",
    "print(time.time()-start)\n",
    "\n",
    "\n",
    "finalY   = rg.applyDeformationField(elastixY , deformationField)\n",
    "print(time.time()-start)\n",
    "\n",
    "finalZ   = rg.applyDeformationField(elastixZ , deformationField)"
   ]
  },
  {
   "cell_type": "code",
   "execution_count": 18,
   "id": "db625a0c",
   "metadata": {},
   "outputs": [],
   "source": [
    "from tqdm import tqdm\n"
   ]
  },
  {
   "cell_type": "code",
   "execution_count": 52,
   "id": "bcfd4891",
   "metadata": {},
   "outputs": [],
   "source": [
    "def getTransformedData(fdata, mdata, finalX, finalY, finalZ):\n",
    "    tvol = np.zeros(fdata.shape)\n",
    "    count =0\n",
    "    for x in tqdm(range(fdata.shape[0])):\n",
    "        for y in range(fdata.shape[1]):\n",
    "            for z in range(fdata.shape[2]):\n",
    "                fx, fy, fz = int(finalX[x,y,z]), int(finalY[x,y,z]), int(finalZ[x,y,z])\n",
    "                if fx>0 and fx<mdata.shape[0] and fy>0 and fy< mdata.shape[1] and fz>0 and fz<mdata.shape[2]:\n",
    "                    tvol[x,y,z] = mdata[fx, fy, fz]\n",
    "                else:\n",
    "                    count+count+1\n",
    "    print(count)\n",
    "    return tvol"
   ]
  },
  {
   "cell_type": "code",
   "execution_count": 48,
   "id": "e61c0fbf",
   "metadata": {},
   "outputs": [
    {
     "name": "stderr",
     "output_type": "stream",
     "text": [
      "100%|████████████████████████████████████████████████████████████████████████████████| 280/280 [02:46<00:00,  1.68it/s]\n"
     ]
    },
    {
     "data": {
      "text/plain": [
       "<nibabel.nifti1.Nifti1Image at 0x1d779f641f0>"
      ]
     },
     "execution_count": 48,
     "metadata": {},
     "output_type": "execute_result"
    }
   ],
   "source": [
    "tvol = getTransformedData(mdata, mdata, alignedX, alignedY, alignedZ)\n",
    "create_nifti_image(tvol, 2.5, \"test.nii.gz\", 1)"
   ]
  },
  {
   "cell_type": "code",
   "execution_count": 49,
   "id": "25b19105",
   "metadata": {},
   "outputs": [
    {
     "data": {
      "text/plain": [
       "(280, 436, 562)"
      ]
     },
     "execution_count": 49,
     "metadata": {},
     "output_type": "execute_result"
    }
   ],
   "source": [
    "tvol.shape"
   ]
  },
  {
   "cell_type": "code",
   "execution_count": null,
   "id": "0cdff5d6",
   "metadata": {},
   "outputs": [],
   "source": [
    "create_nifti_image(tvol, 25, \"test.nii.gz\", 1)"
   ]
  },
  {
   "cell_type": "code",
   "execution_count": 53,
   "id": "af974cce",
   "metadata": {},
   "outputs": [],
   "source": [
    "eX,eY, eZ = loadNiiImages([elastixX, elastixY, elastixZ])"
   ]
  },
  {
   "cell_type": "code",
   "execution_count": 57,
   "id": "4233d816",
   "metadata": {},
   "outputs": [
    {
     "name": "stderr",
     "output_type": "stream",
     "text": [
      "100%|████████████████████████████████████████████████████████████████████████████████| 528/528 [03:08<00:00,  2.80it/s]\n"
     ]
    },
    {
     "name": "stdout",
     "output_type": "stream",
     "text": [
      "0\n"
     ]
    },
    {
     "data": {
      "text/plain": [
       "<nibabel.nifti1.Nifti1Image at 0x1d779edf4f0>"
      ]
     },
     "execution_count": 57,
     "metadata": {},
     "output_type": "execute_result"
    }
   ],
   "source": [
    "tvol=getTransformedData(fdata, mdata, finalX, finalY, finalZ)\n",
    "create_nifti_image(tvol, 2.5, \"test.nii.gz\", 1/2)"
   ]
  },
  {
   "cell_type": "code",
   "execution_count": null,
   "id": "22864f2f",
   "metadata": {},
   "outputs": [],
   "source": []
  }
 ],
 "metadata": {
  "kernelspec": {
   "display_name": "Python 3 (ipykernel)",
   "language": "python",
   "name": "python3"
  },
  "language_info": {
   "codemirror_mode": {
    "name": "ipython",
    "version": 3
   },
   "file_extension": ".py",
   "mimetype": "text/x-python",
   "name": "python",
   "nbconvert_exporter": "python",
   "pygments_lexer": "ipython3",
   "version": "3.9.16"
  }
 },
 "nbformat": 4,
 "nbformat_minor": 5
}
